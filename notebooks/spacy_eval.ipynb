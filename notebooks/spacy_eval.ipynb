{
 "cells": [
  {
   "cell_type": "markdown",
   "metadata": {},
   "source": [
    "# spaCy pipeline evaluation\n",
    "\n",
    "This notebook is used to evaluate the entire spaCy pipeline. It compares the predictions of the pipeline with the ground truth author and affiliation data, along with predictions made using other strategies.\n",
    "\n",
    "Ground truth authors and affiliations were cataloged by hand using SHROOM, and are downloaded as Cocina from SDR by the `preprints:download` task (see README.md). This needs to be run prior to running this notebook.\n",
    "\n",
    "Article plain texts are extracted from the PDFs using the `preprints:clean` task (see README.md). This also needs to be run prior to running this notebook.\n",
    "\n",
    "If predictions have already been saved to the `output/spacy` folder, those will be loaded and used. Otherwise, new predictions will be run and saved there."
   ]
  },
  {
   "cell_type": "code",
   "execution_count": 1,
   "metadata": {},
   "outputs": [
    {
     "name": "stderr",
     "output_type": "stream",
     "text": [
      "/Users/budak/.pyenv/versions/3.12.2/envs/ezdeposit/lib/python3.12/site-packages/transformers/utils/generic.py:441: FutureWarning: `torch.utils._pytree._register_pytree_node` is deprecated. Please use `torch.utils._pytree.register_pytree_node` instead.\n",
      "  _torch_pytree._register_pytree_node(\n",
      "/Users/budak/.pyenv/versions/3.12.2/envs/ezdeposit/lib/python3.12/site-packages/transformers/utils/generic.py:309: FutureWarning: `torch.utils._pytree._register_pytree_node` is deprecated. Please use `torch.utils._pytree.register_pytree_node` instead.\n",
      "  _torch_pytree._register_pytree_node(\n",
      "/Users/budak/.pyenv/versions/3.12.2/envs/ezdeposit/lib/python3.12/site-packages/thinc/shims/pytorch.py:261: FutureWarning: You are using `torch.load` with `weights_only=False` (the current default value), which uses the default pickle module implicitly. It is possible to construct malicious pickle data which will execute arbitrary code during unpickling (See https://github.com/pytorch/pytorch/blob/main/SECURITY.md#untrusted-models for more details). In a future release, the default value for `weights_only` will be flipped to `True`. This limits the functions that could be executed during unpickling. Arbitrary objects will no longer be allowed to be loaded via this mode unless they are explicitly allowlisted by the user via `torch.serialization.add_safe_globals`. We recommend you start setting `weights_only=True` for any use case where you don't have full control of the loaded file. Please open an issue on GitHub for any issues related to this experimental feature.\n",
      "  model.load_state_dict(torch.load(filelike, map_location=device))\n"
     ]
    }
   ],
   "source": [
    "# set up project root path for imports\n",
    "import sys\n",
    "import os\n",
    "import pathlib\n",
    "root = os.path.abspath(os.path.join(os.getcwd(), os.pardir))\n",
    "PROJECT_ROOT = pathlib.Path(root)\n",
    "\n",
    "# make scripts in scripts/ importable and import util functions\n",
    "sys.path.insert(1, str(PROJECT_ROOT / 'scripts'))\n",
    "from notebook_utils import get_preprint_text, get_gold_affiliations, load_predictions\n",
    "\n",
    "# Load the models\n",
    "import spacy\n",
    "ner = spacy.load(\"en_core_web_trf\")\n",
    "ner.disable_pipes(\"parser\")\n",
    "textcat = spacy.load(PROJECT_ROOT / 'training' / 'textcat' / 'model-best')\n"
   ]
  },
  {
   "cell_type": "code",
   "execution_count": 2,
   "metadata": {},
   "outputs": [],
   "source": [
    "# set up data table with columns for gold and predicted affiliations\n",
    "import pandas as pd\n",
    "preprints = pd.read_csv(PROJECT_ROOT / 'assets' / 'preprints.csv')\n",
    "preprints['gold'] = ''\n",
    "\n",
    "# add the full text and gold affiliations to the data table\n",
    "for i, row in preprints.iterrows():\n",
    "    preprint_id = row['OpenAlex ID']\n",
    "    preprint_text = get_preprint_text(preprint_id)\n",
    "    preprint_file = PROJECT_ROOT / \"assets\" / \"preprints\" / \"pdf\" / f\"{preprint_id}.pdf\"\n",
    "    preprints.at[i, 'gold'] = get_gold_affiliations(preprint_id)\n",
    "    preprints.at[i, 'text'] = preprint_text\n",
    "\n",
    "# limit to only rows where we have gold affiliations\n",
    "preprints = preprints[preprints['gold'] != '']"
   ]
  },
  {
   "cell_type": "code",
   "execution_count": 3,
   "metadata": {},
   "outputs": [
    {
     "name": "stdout",
     "output_type": "stream",
     "text": [
      "Using saved predictions\n"
     ]
    }
   ],
   "source": [
    "from utils import get_affiliation_dict, analyze_pdf_text\n",
    "from notebook_utils import RESULTS_PATH, load_predictions\n",
    "from tqdm.notebook import tqdm\n",
    "import json\n",
    "\n",
    "# set this and run cell to force re-running predictions\n",
    "FORCE_RERUN = False\n",
    "\n",
    "# add a column for predictions\n",
    "preprints['pred'] = ''\n",
    "\n",
    "# if we don't have any saved predictions, run prediction for every preprint\n",
    "spacy_results_path = RESULTS_PATH / \"spacy\"\n",
    "predictions = load_predictions(spacy_results_path)\n",
    "if not predictions or FORCE_RERUN:\n",
    "    print(\"No predictions found, running prediction for all preprints\")\n",
    "    for i, row in tqdm(preprints.iterrows(), total=len(preprints), desc=\"Predicting\"):\n",
    "        preprint_id = row['OpenAlex ID']\n",
    "        preprint_file = PROJECT_ROOT / \"assets\" / \"preprints\" / \"txt\" / f\"{preprint_id}.txt\"\n",
    "        pdf_text = preprint_file.read_text(encoding='utf-8')\n",
    "        try:\n",
    "            result = analyze_pdf_text(pdf_text, textcat, ner)\n",
    "            affiliations = get_affiliation_dict(result)\n",
    "        except ValueError as e:\n",
    "            print(f\"Error analyzing {preprint_id}: {e}\")\n",
    "            affiliations = {}\n",
    "        with (spacy_results_path / f\"{preprint_id}.json\").open(mode=\"w\") as f:\n",
    "            json.dump(affiliations, f)\n",
    "    predictions = load_predictions(spacy_results_path)\n",
    "else:\n",
    "    print(\"Using saved predictions\")\n",
    "\n",
    "# set predictions for each preprint in the data table\n",
    "for i, row in preprints.iterrows():\n",
    "    preprint_id = row['OpenAlex ID']\n",
    "    if preprint_id in predictions:\n",
    "        preprints.at[i, 'pred'] = predictions[preprint_id]"
   ]
  },
  {
   "cell_type": "code",
   "execution_count": 4,
   "metadata": {},
   "outputs": [
    {
     "data": {
      "image/png": "[encoded data removed]",
      "text/plain": [
       "<Figure size 640x480 with 1 Axes>"
      ]
     },
     "metadata": {},
     "output_type": "display_data"
    },
    {
     "name": "stdout",
     "output_type": "stream",
     "text": [
      "Preprint W3133101250\n",
      "Authors accuracy: 0.0\n",
      "Gold: ['Ziyun Wang', 'Yuguang Li', 'Jacob Boes', 'Ying Wang', 'Edward Sargent']\n",
      "Pred: []\n",
      "\n",
      "Preprint W4393156923\n",
      "Authors accuracy: 0.0\n",
      "Gold: ['John P.A. Ioannidis']\n",
      "Pred: []\n",
      "\n",
      "Preprint W3046678272\n",
      "Authors accuracy: 0.0\n",
      "Gold: ['Lenny Truong', 'Steven Herbst', 'Rajsekhar Setaluri', 'Makai Mann', 'Ross Daly', 'Keyi Zhang', 'Caleb Donovick', 'Daniel Stanley', 'Mark Horowitz', 'Clark Barrett', 'Pat Hanrahan']\n",
      "Pred: []\n",
      "\n",
      "Preprint W3000588783\n",
      "Authors accuracy: 0.0\n",
      "Gold: ['Jason D. Roberts', 'S. Yukiko Asaki', 'Andrea Mazzanti', 'J. Martijn Bos', 'Izabella Tuleta', 'Alison R. Muir', 'Lia Crotti', 'Andrew D. Krahn', 'Valentina Kutyifa', 'M. Benjamin Shoemaker', 'Christopher L. Johnsrude', 'Takeshi Aiba', 'Luciana Marcondes', 'Anwar Baban', 'Sharmila Udupa', 'Brynn Dechert', 'Peter Fischbach', 'Linda M. Knight', 'Eric Vittinghoff', 'Deni Kukavica', 'Birgit Stallmeyer', 'John R. Giudicessi', 'Carla Spazzolini', 'Keiko Shimamoto', 'Rafik Tadros', 'Julia Cadrin-Tourigny', 'Henry J. Duff', 'Christopher S. Simpson', 'Thomas M. Roston', 'Yanushi D. Wijeyeratne', 'Imane El Hajjaji', 'Maisoon D. Yousif', 'Lorne J. Gula', 'Peter Leong-Sit', 'Nikhil Chavali', 'Andrew P. Landstrom', 'Gregory M. Marcus', 'Sven Dittmann', 'Arthur A. M. Wilde', 'Elijah R. Behr', 'Jacob Tfelt-Hansen', 'Melvin M. Scheinman', 'Marco V. Perez', 'Juan Pablo Kaski', 'Robert M. Gow', 'Fabrizio Drago', 'Peter F. Aziz', 'Dominic J. Abrams', 'Michael H. Gollob', 'Jonathan R. Skinner', 'Wataru Shimizu', 'Elizabeth S. Kaufman', 'Dan M. Roden', 'Wojciech Zareba', 'Peter J. Schwartz', 'Eric Schulze-Bahr', 'Susan P. Etheridge', 'Silvia G. Priori', 'Michael J. Ackerman']\n",
      "Pred: []\n",
      "\n",
      "Preprint W3040284472\n",
      "Authors accuracy: 0.0\n",
      "Gold: ['Katherine I. Portelli', 'Jun-Beom Park', 'Jordan S. Taylor', 'Anne-Laure Thomas', 'Matthias Stelzner', 'Martin G. Martin', 'James C.Y. Dunn']\n",
      "Pred: []\n",
      "\n"
     ]
    }
   ],
   "source": [
    "from utils import lev_ratio_list\n",
    "\n",
    "# calculate some accuracy statistics for authors\n",
    "for i, row in preprints.iterrows():\n",
    "    preprints.at[i, 'authors_accuracy'] = lev_ratio_list(list(row['gold'].keys()), list(row['pred'].keys()))\n",
    "\n",
    "# print a histogram of author accuracy per preprint\n",
    "%matplotlib inline\n",
    "import matplotlib.pyplot as plt\n",
    "author_acc = preprints['authors_accuracy']\n",
    "author_acc_median = author_acc.median()\n",
    "plt.hist(author_acc, edgecolor='black')\n",
    "plt.xlabel('Author accuracy')\n",
    "plt.ylabel('Number of preprints')\n",
    "plt.title('Author accuracy')\n",
    "plt.axvline(author_acc_median, color='r', linestyle='dashed', linewidth=1) \n",
    "plt.text(author_acc_median, 10, f'median: {author_acc_median:.2f}', color='r')\n",
    "plt.show()\n",
    "\n",
    "# for the preprints with the lowest author accuracy, print the gold and predicted affiliations\n",
    "worst_preprints = preprints.sort_values(by='authors_accuracy').head(5)\n",
    "for i, row in worst_preprints.iterrows():\n",
    "    print(\"Preprint\", row['OpenAlex ID'])\n",
    "    print(\"Authors accuracy:\", row['authors_accuracy'])\n",
    "    print(\"Gold:\", list(row['gold'].keys()))\n",
    "    print(\"Pred:\", list(row['pred'].keys()))\n",
    "    print()"
   ]
  },
  {
   "cell_type": "code",
   "execution_count": null,
   "metadata": {},
   "outputs": [
    {
     "ename": "StatisticsError",
     "evalue": "mean requires at least one data point",
     "output_type": "error",
     "traceback": [
      "\u001b[0;31m---------------------------------------------------------------------------\u001b[0m",
      "\u001b[0;31mStatisticsError\u001b[0m                           Traceback (most recent call last)",
      "Cell \u001b[0;32mIn[6], line 6\u001b[0m\n\u001b[1;32m      3\u001b[0m \u001b[38;5;66;03m# calculate some accuracy statistics for affiliations\u001b[39;00m\n\u001b[1;32m      4\u001b[0m \u001b[38;5;66;03m# affiliation accuracy is the mean of the lev ratio of each author's affiliations\u001b[39;00m\n\u001b[1;32m      5\u001b[0m \u001b[38;5;28;01mfor\u001b[39;00m i, row \u001b[38;5;129;01min\u001b[39;00m preprints\u001b[38;5;241m.\u001b[39miterrows():\n\u001b[0;32m----> 6\u001b[0m     preprints\u001b[38;5;241m.\u001b[39mat[i, \u001b[38;5;124m'\u001b[39m\u001b[38;5;124maffiliations_accuracy\u001b[39m\u001b[38;5;124m'\u001b[39m] \u001b[38;5;241m=\u001b[39m \u001b[43mstatistics\u001b[49m\u001b[38;5;241;43m.\u001b[39;49m\u001b[43mmean\u001b[49m\u001b[43m(\u001b[49m\u001b[43m[\u001b[49m\n\u001b[1;32m      7\u001b[0m \u001b[43m        \u001b[49m\u001b[43mlev_ratio_list\u001b[49m\u001b[43m(\u001b[49m\u001b[43mgold\u001b[49m\u001b[43m,\u001b[49m\u001b[43m \u001b[49m\u001b[43mpred\u001b[49m\u001b[43m)\u001b[49m\u001b[43m \u001b[49m\u001b[38;5;28;43;01mfor\u001b[39;49;00m\u001b[43m \u001b[49m\u001b[43mgold\u001b[49m\u001b[43m,\u001b[49m\u001b[43m \u001b[49m\u001b[43mpred\u001b[49m\u001b[43m \u001b[49m\u001b[38;5;129;43;01min\u001b[39;49;00m\u001b[43m \u001b[49m\u001b[38;5;28;43mzip\u001b[39;49m\u001b[43m(\u001b[49m\u001b[43mrow\u001b[49m\u001b[43m[\u001b[49m\u001b[38;5;124;43m'\u001b[39;49m\u001b[38;5;124;43mgold\u001b[39;49m\u001b[38;5;124;43m'\u001b[39;49m\u001b[43m]\u001b[49m\u001b[38;5;241;43m.\u001b[39;49m\u001b[43mvalues\u001b[49m\u001b[43m(\u001b[49m\u001b[43m)\u001b[49m\u001b[43m \u001b[49m\u001b[38;5;129;43;01mor\u001b[39;49;00m\u001b[43m \u001b[49m\u001b[43m[\u001b[49m\u001b[43m]\u001b[49m\u001b[43m,\u001b[49m\u001b[43m \u001b[49m\u001b[43mrow\u001b[49m\u001b[43m[\u001b[49m\u001b[38;5;124;43m'\u001b[39;49m\u001b[38;5;124;43mpred\u001b[39;49m\u001b[38;5;124;43m'\u001b[39;49m\u001b[43m]\u001b[49m\u001b[38;5;241;43m.\u001b[39;49m\u001b[43mvalues\u001b[49m\u001b[43m(\u001b[49m\u001b[43m)\u001b[49m\u001b[43m \u001b[49m\u001b[38;5;129;43;01mor\u001b[39;49;00m\u001b[43m \u001b[49m\u001b[43m[\u001b[49m\u001b[43m]\u001b[49m\u001b[43m)\u001b[49m\n\u001b[1;32m      8\u001b[0m \u001b[43m    \u001b[49m\u001b[43m]\u001b[49m\u001b[43m)\u001b[49m\n\u001b[1;32m     10\u001b[0m \u001b[38;5;66;03m# print a histogram of author accuracy per preprint\u001b[39;00m\n\u001b[1;32m     11\u001b[0m get_ipython()\u001b[38;5;241m.\u001b[39mrun_line_magic(\u001b[38;5;124m'\u001b[39m\u001b[38;5;124mmatplotlib\u001b[39m\u001b[38;5;124m'\u001b[39m, \u001b[38;5;124m'\u001b[39m\u001b[38;5;124minline\u001b[39m\u001b[38;5;124m'\u001b[39m)\n",
      "File \u001b[0;32m~/.pyenv/versions/3.12.2/lib/python3.12/statistics.py:486\u001b[0m, in \u001b[0;36mmean\u001b[0;34m(data)\u001b[0m\n\u001b[1;32m    484\u001b[0m T, total, n \u001b[38;5;241m=\u001b[39m _sum(data)\n\u001b[1;32m    485\u001b[0m \u001b[38;5;28;01mif\u001b[39;00m n \u001b[38;5;241m<\u001b[39m \u001b[38;5;241m1\u001b[39m:\n\u001b[0;32m--> 486\u001b[0m     \u001b[38;5;28;01mraise\u001b[39;00m StatisticsError(\u001b[38;5;124m'\u001b[39m\u001b[38;5;124mmean requires at least one data point\u001b[39m\u001b[38;5;124m'\u001b[39m)\n\u001b[1;32m    487\u001b[0m \u001b[38;5;28;01mreturn\u001b[39;00m _convert(total \u001b[38;5;241m/\u001b[39m n, T)\n",
      "\u001b[0;31mStatisticsError\u001b[0m: mean requires at least one data point"
     ]
    }
   ],
   "source": [
    "import statistics\n",
    "\n",
    "# calculate some accuracy statistics for affiliations\n",
    "# affiliation accuracy is the mean of the lev ratio of each author's affiliations\n",
    "for i, row in preprints.iterrows():\n",
    "    preprints.at[i, 'affiliations_accuracy'] = statistics.mean([\n",
    "        lev_ratio_list(gold, pred) for gold, pred in zip(row['gold'].values(), row['pred'].values())\n",
    "    ])\n",
    "\n",
    "# print a histogram of author accuracy per preprint\n",
    "%matplotlib inline\n",
    "import matplotlib.pyplot as plt\n",
    "affil_acc = preprints['affiliations_accuracy']\n",
    "affil_acc_median = affil_acc.median()\n",
    "plt.hist(affil_acc, edgecolor='black')\n",
    "plt.xlabel('Affiliation accuracy')\n",
    "plt.ylabel('Number of preprints')\n",
    "plt.title('Affiliation accuracy')\n",
    "plt.axvline(affil_acc_median, color='r', linestyle='dashed', linewidth=1)\n",
    "plt.text(affil_acc_median, 10, f'median: {affil_acc_median:.2f}', color='r')\n",
    "plt.show()\n",
    "\n",
    "# for the preprints with the lowest affiliation accuracy, print the gold and predicted affiliations\n",
    "worst_preprints = preprints.sort_values(by='affiliations_accuracy').head(5)\n",
    "for i, row in worst_preprints.iterrows():\n",
    "    print(f\"{row['OpenAlex ID']} ({row['OpenAlex Title']})\")\n",
    "    print(\"Affiliations accuracy:\", row['affiliations_accuracy'])\n",
    "    print(\"Gold:\", list(row['gold'].values()))\n",
    "    print(\"Pred:\", list(row['pred'].values()))\n",
    "    print()\n"
   ]
  }
 ],
 "metadata": {
  "kernelspec": {
   "display_name": "ezdeposit",
   "language": "python",
   "name": "python3"
  },
  "language_info": {
   "codemirror_mode": {
    "name": "ipython",
    "version": 3
   },
   "file_extension": ".py",
   "mimetype": "text/x-python",
   "name": "python",
   "nbconvert_exporter": "python",
   "pygments_lexer": "ipython3",
   "version": "3.12.2"
  }
 },
 "nbformat": 4,
 "nbformat_minor": 2
}
